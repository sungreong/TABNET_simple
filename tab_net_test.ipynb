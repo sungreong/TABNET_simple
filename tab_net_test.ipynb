{
 "metadata": {
  "language_info": {
   "codemirror_mode": {
    "name": "ipython",
    "version": 3
   },
   "file_extension": ".py",
   "mimetype": "text/x-python",
   "name": "python",
   "nbconvert_exporter": "python",
   "pygments_lexer": "ipython3",
   "version": "3.8.6"
  },
  "orig_nbformat": 2,
  "kernelspec": {
   "name": "python386jvsc74a57bd098b0a9b7b4eaaa670588a142fd0a9b87eaafe866f1db4228be72b4211d12040f",
   "display_name": "Python 3.8.6 64-bit ('base': conda)"
  }
 },
 "nbformat": 4,
 "nbformat_minor": 2,
 "cells": [
  {
   "cell_type": "code",
   "execution_count": 1,
   "metadata": {},
   "outputs": [],
   "source": [
    "%load_ext autoreload\n",
    "%autoreload 2"
   ]
  },
  {
   "cell_type": "code",
   "execution_count": 2,
   "metadata": {},
   "outputs": [],
   "source": [
    "import sys"
   ]
  },
  {
   "cell_type": "code",
   "execution_count": 3,
   "metadata": {},
   "outputs": [],
   "source": [
    "sys.path.append(\"/home/bakingsoda/side/tabnet\")"
   ]
  },
  {
   "cell_type": "code",
   "execution_count": 4,
   "metadata": {},
   "outputs": [],
   "source": [
    "\n",
    "import torch\n",
    "device = torch.device(\"cpu\")\n"
   ]
  },
  {
   "cell_type": "code",
   "execution_count": null,
   "metadata": {},
   "outputs": [],
   "source": []
  },
  {
   "cell_type": "code",
   "execution_count": 5,
   "metadata": {},
   "outputs": [
    {
     "output_type": "stream",
     "name": "stdout",
     "text": [
      "cat_1 5\ntarget 2\n"
     ]
    }
   ],
   "source": [
    "import numpy as np\n",
    "import pandas as pd\n",
    "label = np.random.choice([1,2],replace=True,size=(1000,1))\n",
    "nums = np.random.normal(size=(1000,1))\n",
    "cats = np.random.choice([1,2,3,4,6],replace=True,size=(1000,1))\n",
    "x = np.concatenate([nums,cats,label],axis=1)\n",
    "train = pd.DataFrame(x,columns=[\"num_1\",\"cat_1\",\"target\"])\n",
    "train[\"cat_1\"] = train[\"cat_1\"].astype(\"object\")\n",
    "\n",
    "from sklearn.preprocessing import LabelEncoder\n",
    "nunique = train.nunique()\n",
    "types = train.dtypes\n",
    "\n",
    "categorical_columns = []\n",
    "categorical_dims =  {}\n",
    "for col in train.columns:\n",
    "    if types[col] == 'object' or nunique[col] < 200:\n",
    "        print(col, train[col].nunique())\n",
    "        l_enc = LabelEncoder()\n",
    "        train[col] = train[col].fillna(\"VV_likely\")\n",
    "        train[col] = l_enc.fit_transform(train[col].values)\n",
    "        categorical_columns.append(col)\n",
    "        categorical_dims[col] = len(l_enc.classes_)\n",
    "    else:\n",
    "        train.fillna(train[col].mean(), inplace=True)\n",
    "\n",
    "unused_feat = ['temp']\n",
    "target = \"target\"\n",
    "\n",
    "features = [ col for col in train.columns if col not in unused_feat+[target]] \n",
    "\n",
    "cat_idxs = [ i for i, f in enumerate(features) if f in categorical_columns]\n",
    "\n",
    "cat_dims = [ categorical_dims[f] for i, f in enumerate(features) if f in categorical_columns]"
   ]
  },
  {
   "cell_type": "code",
   "execution_count": 6,
   "metadata": {},
   "outputs": [],
   "source": [
    "X_train = train[features].values\n",
    "y_train = train[target].values\n"
   ]
  },
  {
   "cell_type": "code",
   "execution_count": 37,
   "metadata": {},
   "outputs": [],
   "source": [
    "input_dim = X_train.shape[1]\n",
    "from utils_output import infer_output_dim\n",
    "output_dim, train_labels = infer_output_dim(y_train)\n",
    "classes_ = train_labels\n",
    "starget_mapper = {\n",
    "    class_label: index for index, class_label in enumerate(classes_)\n",
    "}\n",
    "preds_mapper = {\n",
    "    str(index): class_label for index, class_label in enumerate(classes_)\n",
    "}\n"
   ]
  },
  {
   "cell_type": "code",
   "execution_count": 39,
   "metadata": {},
   "outputs": [
    {
     "output_type": "execute_result",
     "data": {
      "text/plain": [
       "{'0': 0, '1': 1}"
      ]
     },
     "metadata": {},
     "execution_count": 39
    }
   ],
   "source": [
    "preds_mapper"
   ]
  },
  {
   "cell_type": "code",
   "execution_count": 8,
   "metadata": {},
   "outputs": [],
   "source": [
    "from typing import List, Any, Dict\n",
    "n_d: int = 8\n",
    "n_a: int = 8\n",
    "n_steps: int = 3\n",
    "gamma: float = 1.3\n",
    "cat_idxs: List[int] =cat_idxs\n",
    "cat_dims: List[int] = cat_dims\n",
    "cat_emb_dim: int = 1\n",
    "n_independent: int = 2\n",
    "n_shared: int = 2\n",
    "epsilon: float = 1e-15\n",
    "momentum: float = 0.02\n",
    "lambda_sparse: float = 1e-3\n",
    "seed: int = 0\n",
    "clip_value: int = 1\n",
    "verbose: int = 1\n",
    "optimizer_fn: Any = torch.optim.Adam\n",
    "optimizer_params: Dict = dict(lr=2e-2)\n",
    "scheduler_fn: Any = None\n",
    "scheduler_params: Dict = {\"step_size\":50,\"gamma\":0.9}\n",
    "mask_type: str = \"sparsemax\"\n",
    "input_dim: int = input_dim\n",
    "output_dim: int = output_dim\n",
    "device_name: str = \"auto\""
   ]
  },
  {
   "cell_type": "code",
   "execution_count": 10,
   "metadata": {},
   "outputs": [],
   "source": [
    "virtual_batch_size=128"
   ]
  },
  {
   "cell_type": "code",
   "execution_count": 11,
   "metadata": {},
   "outputs": [],
   "source": [
    "from tab_network import TabNet\n",
    "network = TabNet(\n",
    "            input_dim,\n",
    "            output_dim,\n",
    "            n_d=n_d,\n",
    "            n_a=n_a,\n",
    "            n_steps=n_steps,\n",
    "            gamma=gamma,\n",
    "            cat_idxs=cat_idxs,\n",
    "            cat_dims=cat_dims,\n",
    "            cat_emb_dim=cat_emb_dim,\n",
    "            n_independent=n_independent,\n",
    "            n_shared=n_shared,\n",
    "            epsilon=epsilon,\n",
    "            virtual_batch_size=virtual_batch_size,\n",
    "            momentum=momentum,\n",
    "            mask_type=mask_type,\n",
    "        ).to(device)"
   ]
  },
  {
   "cell_type": "code",
   "execution_count": 54,
   "metadata": {},
   "outputs": [],
   "source": [
    "optim= optimizer_fn(network.parameters(),**optimizer_params)\n",
    "\n"
   ]
  },
  {
   "cell_type": "code",
   "execution_count": 19,
   "metadata": {},
   "outputs": [],
   "source": [
    "batch_size= 32\n",
    "sampler= None\n",
    "need_shuffle= True\n",
    "num_workers = 3\n",
    "drop_last= True\n",
    "pin_memory=True\n",
    "train_dataloader = DataLoader(\n",
    "        TorchDataset(X_train.astype(np.float32), y_train),\n",
    "        batch_size=batch_size,\n",
    "        sampler=sampler,\n",
    "        shuffle=need_shuffle,\n",
    "        num_workers=num_workers,\n",
    "        drop_last=drop_last,\n",
    "        pin_memory=pin_memory,\n",
    "    )"
   ]
  },
  {
   "cell_type": "code",
   "execution_count": 22,
   "metadata": {},
   "outputs": [],
   "source": [
    "network.train()\n",
    "X, y=next(iter(train_dataloader))\n"
   ]
  },
  {
   "cell_type": "code",
   "execution_count": 27,
   "metadata": {},
   "outputs": [],
   "source": [
    "X = X.to(device).float()\n",
    "y = y.to(device).float()\n",
    "loss_fn = torch.nn.functional.cross_entropy"
   ]
  },
  {
   "cell_type": "code",
   "execution_count": 24,
   "metadata": {},
   "outputs": [],
   "source": [
    "for param in network.parameters():\n",
    "    param.grad = None"
   ]
  },
  {
   "cell_type": "code",
   "execution_count": 25,
   "metadata": {},
   "outputs": [],
   "source": [
    "output, M_loss = network(X)"
   ]
  },
  {
   "cell_type": "code",
   "execution_count": 31,
   "metadata": {},
   "outputs": [],
   "source": [
    "loss = loss_fn(output , y.long())\n",
    "loss -= lambda_sparse * M_loss\n",
    "loss.backward()"
   ]
  },
  {
   "cell_type": "code",
   "execution_count": 32,
   "metadata": {},
   "outputs": [],
   "source": [
    "optim.step()"
   ]
  },
  {
   "cell_type": "code",
   "execution_count": 40,
   "metadata": {},
   "outputs": [],
   "source": [
    "def predict_func(outputs):\n",
    "    outputs = np.argmax(outputs, axis=1)\n",
    "    return np.vectorize(preds_mapper.get)(outputs.astype(str))"
   ]
  },
  {
   "cell_type": "code",
   "execution_count": 1,
   "metadata": {},
   "outputs": [
    {
     "output_type": "error",
     "ename": "NameError",
     "evalue": "name 'predict_func' is not defined",
     "traceback": [
      "\u001b[0;31m---------------------------------------------------------------------------\u001b[0m",
      "\u001b[0;31mNameError\u001b[0m                                 Traceback (most recent call last)",
      "\u001b[0;32m<ipython-input-1-f301bf24be85>\u001b[0m in \u001b[0;36m<module>\u001b[0;34m\u001b[0m\n\u001b[0;32m----> 1\u001b[0;31m \u001b[0mpredict_func\u001b[0m\u001b[0;34m(\u001b[0m\u001b[0moutput\u001b[0m\u001b[0;34m)\u001b[0m\u001b[0;34m\u001b[0m\u001b[0;34m\u001b[0m\u001b[0m\n\u001b[0m",
      "\u001b[0;31mNameError\u001b[0m: name 'predict_func' is not defined"
     ]
    }
   ],
   "source": [
    "predict_func(output)"
   ]
  },
  {
   "cell_type": "code",
   "execution_count": 45,
   "metadata": {},
   "outputs": [],
   "source": [
    "probs = torch.nn.Softmax(dim=1)(output).cpu().detach().numpy()"
   ]
  },
  {
   "cell_type": "code",
   "execution_count": 47,
   "metadata": {},
   "outputs": [
    {
     "output_type": "execute_result",
     "data": {
      "text/plain": [
       "<2x2 sparse matrix of type '<class 'numpy.float64'>'\n",
       "\twith 2 stored elements in Compressed Sparse Column format>"
      ]
     },
     "metadata": {},
     "execution_count": 47
    }
   ],
   "source": [
    "import scipy\n",
    "def create_explain_matrix(input_dim, cat_emb_dim, cat_idxs, post_embed_dim):\n",
    "    \"\"\"\n",
    "    This is a computational trick.\n",
    "    In order to rapidly sum importances from same embeddings\n",
    "    to the initial index.\n",
    "\n",
    "    Parameters\n",
    "    ----------\n",
    "    input_dim : int\n",
    "        Initial input dim\n",
    "    cat_emb_dim : int or list of int\n",
    "        if int : size of embedding for all categorical feature\n",
    "        if list of int : size of embedding for each categorical feature\n",
    "    cat_idxs : list of int\n",
    "        Initial position of categorical features\n",
    "    post_embed_dim : int\n",
    "        Post embedding inputs dimension\n",
    "\n",
    "    Returns\n",
    "    -------\n",
    "    reducing_matrix : np.array\n",
    "        Matrix of dim (post_embed_dim, input_dim)  to performe reduce\n",
    "    \"\"\"\n",
    "\n",
    "    if isinstance(cat_emb_dim, int):\n",
    "        all_emb_impact = [cat_emb_dim - 1] * len(cat_idxs)\n",
    "    else:\n",
    "        all_emb_impact = [emb_dim - 1 for emb_dim in cat_emb_dim]\n",
    "\n",
    "    acc_emb = 0\n",
    "    nb_emb = 0\n",
    "    indices_trick = []\n",
    "    for i in range(input_dim):\n",
    "        if i not in cat_idxs:\n",
    "            indices_trick.append([i + acc_emb])\n",
    "        else:\n",
    "            indices_trick.append(\n",
    "                range(i + acc_emb, i + acc_emb + all_emb_impact[nb_emb] + 1)\n",
    "            )\n",
    "            acc_emb += all_emb_impact[nb_emb]\n",
    "            nb_emb += 1\n",
    "\n",
    "    reducing_matrix = np.zeros((post_embed_dim, input_dim))\n",
    "    for i, cols in enumerate(indices_trick):\n",
    "        reducing_matrix[cols, i] = 1\n",
    "\n",
    "    return scipy.sparse.csc_matrix(reducing_matrix)\n",
    "\n",
    "reducing_matrix = create_explain_matrix(\n",
    "            network.input_dim,\n",
    "            network.cat_emb_dim,\n",
    "            network.cat_idxs,\n",
    "            network.post_embed_dim,\n",
    "        )\n",
    "reducing_matrix\n"
   ]
  },
  {
   "cell_type": "code",
   "execution_count": 52,
   "metadata": {},
   "outputs": [],
   "source": [
    "from scipy.sparse import csc_matrix\n",
    "def _compute_feature_importances(loader):\n",
    "    \"\"\"Compute global feature importance.\n",
    "\n",
    "    Parameters\n",
    "    ----------\n",
    "    loader : `torch.utils.data.Dataloader`\n",
    "        Pytorch dataloader.\n",
    "\n",
    "    \"\"\"\n",
    "    network.eval()\n",
    "    feature_importances_ = np.zeros((network.post_embed_dim))\n",
    "    for data, targets in loader:\n",
    "        data = data.to(device).float()\n",
    "        M_explain, masks = network.forward_masks(data)\n",
    "        feature_importances_ += M_explain.sum(dim=0).cpu().detach().numpy()\n",
    "\n",
    "    feature_importances_ = csc_matrix.dot(\n",
    "        feature_importances_, reducing_matrix\n",
    "    )\n",
    "    feature_importances_ = feature_importances_ / np.sum(feature_importances_)\n",
    "    return feature_importances_"
   ]
  },
  {
   "cell_type": "code",
   "execution_count": 53,
   "metadata": {},
   "outputs": [
    {
     "output_type": "execute_result",
     "data": {
      "text/plain": [
       "array([0.61876983, 0.38123017])"
      ]
     },
     "metadata": {},
     "execution_count": 53
    }
   ],
   "source": [
    "_compute_feature_importances(train_dataloader)"
   ]
  },
  {
   "cell_type": "code",
   "execution_count": 57,
   "metadata": {},
   "outputs": [],
   "source": [
    "batch_size = 128\n",
    "def explain( X):\n",
    "    \"\"\"\n",
    "    Return local explanation\n",
    "\n",
    "    Parameters\n",
    "    ----------\n",
    "    X : tensor: `torch.Tensor`\n",
    "        Input data\n",
    "\n",
    "    Returns\n",
    "    -------\n",
    "    M_explain : matrix\n",
    "        Importance per sample, per columns.\n",
    "    masks : matrix\n",
    "        Sparse matrix showing attention masks used by network.\n",
    "    \"\"\"\n",
    "    network.eval()\n",
    "\n",
    "    dataloader = DataLoader(\n",
    "        PredictDataset(X),\n",
    "        batch_size=batch_size,\n",
    "        shuffle=False,\n",
    "    )\n",
    "\n",
    "    res_explain = []\n",
    "\n",
    "    for batch_nb, data in enumerate(dataloader):\n",
    "        data = data.to(device).float()\n",
    "\n",
    "        M_explain, masks = network.forward_masks(data)\n",
    "        for key, value in masks.items():\n",
    "            masks[key] = csc_matrix.dot(\n",
    "                value.cpu().detach().numpy(), reducing_matrix\n",
    "            )\n",
    "\n",
    "        res_explain.append(\n",
    "            csc_matrix.dot(M_explain.cpu().detach().numpy(), reducing_matrix)\n",
    "        )\n",
    "\n",
    "        if batch_nb == 0:\n",
    "            res_masks = masks\n",
    "        else:\n",
    "            for key, value in masks.items():\n",
    "                res_masks[key] = np.vstack([res_masks[key], value])\n",
    "\n",
    "    res_explain = np.vstack(res_explain)\n",
    "\n",
    "    return res_explain, res_masks"
   ]
  },
  {
   "cell_type": "code",
   "execution_count": 60,
   "metadata": {},
   "outputs": [
    {
     "output_type": "display_data",
     "data": {
      "text/plain": "<Figure size 1440x1440 with 3 Axes>",
      "image/svg+xml": "<?xml version=\"1.0\" encoding=\"utf-8\" standalone=\"no\"?>\n<!DOCTYPE svg PUBLIC \"-//W3C//DTD SVG 1.1//EN\"\n  \"http://www.w3.org/Graphics/SVG/1.1/DTD/svg11.dtd\">\n<!-- Created with matplotlib (https://matplotlib.org/) -->\n<svg height=\"1133.39625pt\" version=\"1.1\" viewBox=\"0 0 865.479331 1133.39625\" width=\"865.479331pt\" xmlns=\"http://www.w3.org/2000/svg\" xmlns:xlink=\"http://www.w3.org/1999/xlink\">\n <defs>\n  <style type=\"text/css\">\n*{stroke-linecap:butt;stroke-linejoin:round;}\n  </style>\n </defs>\n <g id=\"figure_1\">\n  <g id=\"patch_1\">\n   <path d=\"M 0 1133.39625 \nL 865.479331 1133.39625 \nL 865.479331 0 \nL 0 0 \nz\n\" style=\"fill:none;\"/>\n  </g>\n  <g id=\"axes_1\">\n   <g id=\"patch_2\">\n    <path d=\"M 26.925 1109.518125 \nL 70.413 1109.518125 \nL 70.413 22.318125 \nL 26.925 22.318125 \nz\n\" style=\"fill:#ffffff;\"/>\n   </g>\n   <g clip-path=\"url(#p7d048fab33)\">\n    <image height=\"1088\" id=\"image81e74eb378\" transform=\"scale(1 -1)translate(0 -1088)\" width=\"44\" x=\"26.925\" xlink:href=\"data:image/png;base64,\niVBORw0KGgoAAAANSUhEUgAAACwAAARACAYAAACV/bEzAAAABHNCSVQICAgIfAhkiAAABUlJREFUeJzt3DFqVGEYhtHc8W+sRGOllZBCEEQEBe0CQhSsQpRUgpVZgNi6ADfiFqbTDWgaEUsLYyHYKBiEURu3cIofnrOAl4evG+6du9zdf/V3C7jy4qOY3VqRVahgrWCtYK1grWCtYK1grWCtYK1gbdl83SG/mvcu3RCz8124YK1grWCtYK1grWCtYK1grWCtYG3ceveYDG+OtsnudBcuWCtYK1grWCtYK1grWCtYK1ibLrhHt1rBWsFawVrBWsFawVrBWsFawVrB2nj57RoZ3uzeJLvTXbhgrWCtYK1grWCtYK1grWCtYK1grWfNWsFawVrBWsFawVrBWsFawVrBWsFawVrBWsFawVrBWsFawVrBWsFawVrBWsFawVrBWsFawVrBWsFawVrBWsFawVrBWsFawVrBWsFawVrBWsFawVrBWsFawVrBWsFawVrBWsFawVrBWsFawdp0wWNv/wkZfvjhLdmd7sIFawVrBWsFawVrBWsFawVrBWvTBfeFZ61grWCtYK1grWCtYK1grWCtYK1grWCtYK1grWCtYK1grWCtYK1grWCtYK1grWCtYK1grWCtYK1grWCtYK1grWBt3Hl+RIa333wmu9NduGCtYK1grWCtYK1grWCtYK1gbbrg5d5yQP4mvD45FrPzXbhgrWCtYK1grWCtYK1grWCtYK1grY9raQVrBWsFawVrBWsFawVrBWsFawVrBWsFawVrBWsFawVrBWsFawVrBWsFa+P1j/NkeHX9qtklq1DBWsFawVrBWsFawVrBWsFawdp0wb3wrBWsFawVrBWsFawVrBWsFawVrBWsFawVrBWsFawVrBWsFawVrBWsFawVrA31TLhPUv9XsFawVrBWsFawVrBWsFawVrBWsNYb2lrBWsFawVrBWsFawVrBWsFawVrB2rj9/hEZ3jy7SHanu3DBWsFawVrBWsFawVrBWsFawdp0wcv3L5fJo9vDnV0xO9+FC9YK1grWCtYK1grWCtYK1grWCtbGudVZMvzn9JTsTnfhgrWCtYK1grWCtYK1grWCtYK1grWCtYK1grWCtYK1grWCtYK1grWCtYK1PkmtFawVrBWsFawVrBWsFawVrBWsTRfcF561grWCtYK1grWCtYK1grWCtYK1grWCtYK1grWCtYK1grWCtYK1grWCtYK1grWCtYK1grWCtYK1grWCtYK1grWCtfHg/iEZfvppTXanu3DBWsFawVrBWsFawVrBWsFawdp0wWP59ZsMXzjzk+xOd+GCtYK1grWCtYK1grWCtYK1grWCtT6upRWsFawVrBWsFawVrBWsFawVrBWsFawVrBWsFawVrBWsFawVrBWsFawVrBWsFawVrBWsFawVrBWsFawVrBWsTRc81IvJ65NjsjvdhQvWCtYK1grWCtYK1grWCtYK1grW+puwVrBWsFawVrBWsFawVrBWsFawVrBWsFawVrBWsFawVrBWsFawVrBWsFawVrBWsFawVrBWsFawVrBWsFawVrBWsFawVrBWsFawVrBWsFawVrBWsFawVrBWsFawVrBWsFawVrBWsFawVrBWsFawVrBWsFawVrBWsFawVrBWsFawVrBWsFawVrBWsFawVrBWsFawVrBWsFawVrBWsFawVrBWsFawVrBWsFawVrBWsFawVrBWsFawVrBWsFawVrBWsFawVrBWsFawVrBWsFawVrBWsFawVrBWsFawVrBWsFawVrBWsFawVrBWsFawVrBWsFawVrBWsFawVrBWsFawVrBWsFawVrBWsFawVrBWsFawVrBWsFawVrBWsDZd8D9KOlne/n6+NAAAAABJRU5ErkJggg==\" y=\"-21.518125\"/>\n   </g>\n   <g id=\"matplotlib.axis_1\">\n    <g id=\"xtick_1\">\n     <g id=\"line2d_1\">\n      <defs>\n       <path d=\"M 0 0 \nL 0 3.5 \n\" id=\"md754c7d459\" style=\"stroke:#000000;stroke-width:0.8;\"/>\n      </defs>\n      <g>\n       <use style=\"stroke:#000000;stroke-width:0.8;\" x=\"37.797\" xlink:href=\"#md754c7d459\" y=\"1109.518125\"/>\n      </g>\n     </g>\n     <g id=\"text_1\">\n      <!-- 0 -->\n      <defs>\n       <path d=\"M 31.78125 66.40625 \nQ 24.171875 66.40625 20.328125 58.90625 \nQ 16.5 51.421875 16.5 36.375 \nQ 16.5 21.390625 20.328125 13.890625 \nQ 24.171875 6.390625 31.78125 6.390625 \nQ 39.453125 6.390625 43.28125 13.890625 \nQ 47.125 21.390625 47.125 36.375 \nQ 47.125 51.421875 43.28125 58.90625 \nQ 39.453125 66.40625 31.78125 66.40625 \nz\nM 31.78125 74.21875 \nQ 44.046875 74.21875 50.515625 64.515625 \nQ 56.984375 54.828125 56.984375 36.375 \nQ 56.984375 17.96875 50.515625 8.265625 \nQ 44.046875 -1.421875 31.78125 -1.421875 \nQ 19.53125 -1.421875 13.0625 8.265625 \nQ 6.59375 17.96875 6.59375 36.375 \nQ 6.59375 54.828125 13.0625 64.515625 \nQ 19.53125 74.21875 31.78125 74.21875 \nz\n\" id=\"DejaVuSans-48\"/>\n      </defs>\n      <g transform=\"translate(34.61575 1124.116563)scale(0.1 -0.1)\">\n       <use xlink:href=\"#DejaVuSans-48\"/>\n      </g>\n     </g>\n    </g>\n    <g id=\"xtick_2\">\n     <g id=\"line2d_2\">\n      <g>\n       <use style=\"stroke:#000000;stroke-width:0.8;\" x=\"59.541\" xlink:href=\"#md754c7d459\" y=\"1109.518125\"/>\n      </g>\n     </g>\n     <g id=\"text_2\">\n      <!-- 1 -->\n      <defs>\n       <path d=\"M 12.40625 8.296875 \nL 28.515625 8.296875 \nL 28.515625 63.921875 \nL 10.984375 60.40625 \nL 10.984375 69.390625 \nL 28.421875 72.90625 \nL 38.28125 72.90625 \nL 38.28125 8.296875 \nL 54.390625 8.296875 \nL 54.390625 0 \nL 12.40625 0 \nz\n\" id=\"DejaVuSans-49\"/>\n      </defs>\n      <g transform=\"translate(56.35975 1124.116563)scale(0.1 -0.1)\">\n       <use xlink:href=\"#DejaVuSans-49\"/>\n      </g>\n     </g>\n    </g>\n   </g>\n   <g id=\"matplotlib.axis_2\">\n    <g id=\"ytick_1\">\n     <g id=\"line2d_3\">\n      <defs>\n       <path d=\"M 0 0 \nL -3.5 0 \n\" id=\"mfaa73cf53f\" style=\"stroke:#000000;stroke-width:0.8;\"/>\n      </defs>\n      <g>\n       <use style=\"stroke:#000000;stroke-width:0.8;\" x=\"26.925\" xlink:href=\"#mfaa73cf53f\" y=\"33.190125\"/>\n      </g>\n     </g>\n     <g id=\"text_3\">\n      <!-- 0 -->\n      <g transform=\"translate(13.5625 36.989344)scale(0.1 -0.1)\">\n       <use xlink:href=\"#DejaVuSans-48\"/>\n      </g>\n     </g>\n    </g>\n    <g id=\"ytick_2\">\n     <g id=\"line2d_4\">\n      <g>\n       <use style=\"stroke:#000000;stroke-width:0.8;\" x=\"26.925\" xlink:href=\"#mfaa73cf53f\" y=\"250.630125\"/>\n      </g>\n     </g>\n     <g id=\"text_4\">\n      <!-- 10 -->\n      <g transform=\"translate(7.2 254.429344)scale(0.1 -0.1)\">\n       <use xlink:href=\"#DejaVuSans-49\"/>\n       <use x=\"63.623047\" xlink:href=\"#DejaVuSans-48\"/>\n      </g>\n     </g>\n    </g>\n    <g id=\"ytick_3\">\n     <g id=\"line2d_5\">\n      <g>\n       <use style=\"stroke:#000000;stroke-width:0.8;\" x=\"26.925\" xlink:href=\"#mfaa73cf53f\" y=\"468.070125\"/>\n      </g>\n     </g>\n     <g id=\"text_5\">\n      <!-- 20 -->\n      <defs>\n       <path d=\"M 19.1875 8.296875 \nL 53.609375 8.296875 \nL 53.609375 0 \nL 7.328125 0 \nL 7.328125 8.296875 \nQ 12.9375 14.109375 22.625 23.890625 \nQ 32.328125 33.6875 34.8125 36.53125 \nQ 39.546875 41.84375 41.421875 45.53125 \nQ 43.3125 49.21875 43.3125 52.78125 \nQ 43.3125 58.59375 39.234375 62.25 \nQ 35.15625 65.921875 28.609375 65.921875 \nQ 23.96875 65.921875 18.8125 64.3125 \nQ 13.671875 62.703125 7.8125 59.421875 \nL 7.8125 69.390625 \nQ 13.765625 71.78125 18.9375 73 \nQ 24.125 74.21875 28.421875 74.21875 \nQ 39.75 74.21875 46.484375 68.546875 \nQ 53.21875 62.890625 53.21875 53.421875 \nQ 53.21875 48.921875 51.53125 44.890625 \nQ 49.859375 40.875 45.40625 35.40625 \nQ 44.1875 33.984375 37.640625 27.21875 \nQ 31.109375 20.453125 19.1875 8.296875 \nz\n\" id=\"DejaVuSans-50\"/>\n      </defs>\n      <g transform=\"translate(7.2 471.869344)scale(0.1 -0.1)\">\n       <use xlink:href=\"#DejaVuSans-50\"/>\n       <use x=\"63.623047\" xlink:href=\"#DejaVuSans-48\"/>\n      </g>\n     </g>\n    </g>\n    <g id=\"ytick_4\">\n     <g id=\"line2d_6\">\n      <g>\n       <use style=\"stroke:#000000;stroke-width:0.8;\" x=\"26.925\" xlink:href=\"#mfaa73cf53f\" y=\"685.510125\"/>\n      </g>\n     </g>\n     <g id=\"text_6\">\n      <!-- 30 -->\n      <defs>\n       <path d=\"M 40.578125 39.3125 \nQ 47.65625 37.796875 51.625 33 \nQ 55.609375 28.21875 55.609375 21.1875 \nQ 55.609375 10.40625 48.1875 4.484375 \nQ 40.765625 -1.421875 27.09375 -1.421875 \nQ 22.515625 -1.421875 17.65625 -0.515625 \nQ 12.796875 0.390625 7.625 2.203125 \nL 7.625 11.71875 \nQ 11.71875 9.328125 16.59375 8.109375 \nQ 21.484375 6.890625 26.8125 6.890625 \nQ 36.078125 6.890625 40.9375 10.546875 \nQ 45.796875 14.203125 45.796875 21.1875 \nQ 45.796875 27.640625 41.28125 31.265625 \nQ 36.765625 34.90625 28.71875 34.90625 \nL 20.21875 34.90625 \nL 20.21875 43.015625 \nL 29.109375 43.015625 \nQ 36.375 43.015625 40.234375 45.921875 \nQ 44.09375 48.828125 44.09375 54.296875 \nQ 44.09375 59.90625 40.109375 62.90625 \nQ 36.140625 65.921875 28.71875 65.921875 \nQ 24.65625 65.921875 20.015625 65.03125 \nQ 15.375 64.15625 9.8125 62.3125 \nL 9.8125 71.09375 \nQ 15.4375 72.65625 20.34375 73.4375 \nQ 25.25 74.21875 29.59375 74.21875 \nQ 40.828125 74.21875 47.359375 69.109375 \nQ 53.90625 64.015625 53.90625 55.328125 \nQ 53.90625 49.265625 50.4375 45.09375 \nQ 46.96875 40.921875 40.578125 39.3125 \nz\n\" id=\"DejaVuSans-51\"/>\n      </defs>\n      <g transform=\"translate(7.2 689.309344)scale(0.1 -0.1)\">\n       <use xlink:href=\"#DejaVuSans-51\"/>\n       <use x=\"63.623047\" xlink:href=\"#DejaVuSans-48\"/>\n      </g>\n     </g>\n    </g>\n    <g id=\"ytick_5\">\n     <g id=\"line2d_7\">\n      <g>\n       <use style=\"stroke:#000000;stroke-width:0.8;\" x=\"26.925\" xlink:href=\"#mfaa73cf53f\" y=\"902.950125\"/>\n      </g>\n     </g>\n     <g id=\"text_7\">\n      <!-- 40 -->\n      <defs>\n       <path d=\"M 37.796875 64.3125 \nL 12.890625 25.390625 \nL 37.796875 25.390625 \nz\nM 35.203125 72.90625 \nL 47.609375 72.90625 \nL 47.609375 25.390625 \nL 58.015625 25.390625 \nL 58.015625 17.1875 \nL 47.609375 17.1875 \nL 47.609375 0 \nL 37.796875 0 \nL 37.796875 17.1875 \nL 4.890625 17.1875 \nL 4.890625 26.703125 \nz\n\" id=\"DejaVuSans-52\"/>\n      </defs>\n      <g transform=\"translate(7.2 906.749344)scale(0.1 -0.1)\">\n       <use xlink:href=\"#DejaVuSans-52\"/>\n       <use x=\"63.623047\" xlink:href=\"#DejaVuSans-48\"/>\n      </g>\n     </g>\n    </g>\n   </g>\n   <g id=\"patch_3\">\n    <path d=\"M 26.925 1109.518125 \nL 26.925 22.318125 \n\" style=\"fill:none;stroke:#000000;stroke-linecap:square;stroke-linejoin:miter;stroke-width:0.8;\"/>\n   </g>\n   <g id=\"patch_4\">\n    <path d=\"M 70.413 1109.518125 \nL 70.413 22.318125 \n\" style=\"fill:none;stroke:#000000;stroke-linecap:square;stroke-linejoin:miter;stroke-width:0.8;\"/>\n   </g>\n   <g id=\"patch_5\">\n    <path d=\"M 26.925 1109.518125 \nL 70.413 1109.518125 \n\" style=\"fill:none;stroke:#000000;stroke-linecap:square;stroke-linejoin:miter;stroke-width:0.8;\"/>\n   </g>\n   <g id=\"patch_6\">\n    <path d=\"M 26.925 22.318125 \nL 70.413 22.318125 \n\" style=\"fill:none;stroke:#000000;stroke-linecap:square;stroke-linejoin:miter;stroke-width:0.8;\"/>\n   </g>\n   <g id=\"text_8\">\n    <!-- mask 0 -->\n    <defs>\n     <path d=\"M 52 44.1875 \nQ 55.375 50.25 60.0625 53.125 \nQ 64.75 56 71.09375 56 \nQ 79.640625 56 84.28125 50.015625 \nQ 88.921875 44.046875 88.921875 33.015625 \nL 88.921875 0 \nL 79.890625 0 \nL 79.890625 32.71875 \nQ 79.890625 40.578125 77.09375 44.375 \nQ 74.3125 48.1875 68.609375 48.1875 \nQ 61.625 48.1875 57.5625 43.546875 \nQ 53.515625 38.921875 53.515625 30.90625 \nL 53.515625 0 \nL 44.484375 0 \nL 44.484375 32.71875 \nQ 44.484375 40.625 41.703125 44.40625 \nQ 38.921875 48.1875 33.109375 48.1875 \nQ 26.21875 48.1875 22.15625 43.53125 \nQ 18.109375 38.875 18.109375 30.90625 \nL 18.109375 0 \nL 9.078125 0 \nL 9.078125 54.6875 \nL 18.109375 54.6875 \nL 18.109375 46.1875 \nQ 21.1875 51.21875 25.484375 53.609375 \nQ 29.78125 56 35.6875 56 \nQ 41.65625 56 45.828125 52.96875 \nQ 50 49.953125 52 44.1875 \nz\n\" id=\"DejaVuSans-109\"/>\n     <path d=\"M 34.28125 27.484375 \nQ 23.390625 27.484375 19.1875 25 \nQ 14.984375 22.515625 14.984375 16.5 \nQ 14.984375 11.71875 18.140625 8.90625 \nQ 21.296875 6.109375 26.703125 6.109375 \nQ 34.1875 6.109375 38.703125 11.40625 \nQ 43.21875 16.703125 43.21875 25.484375 \nL 43.21875 27.484375 \nz\nM 52.203125 31.203125 \nL 52.203125 0 \nL 43.21875 0 \nL 43.21875 8.296875 \nQ 40.140625 3.328125 35.546875 0.953125 \nQ 30.953125 -1.421875 24.3125 -1.421875 \nQ 15.921875 -1.421875 10.953125 3.296875 \nQ 6 8.015625 6 15.921875 \nQ 6 25.140625 12.171875 29.828125 \nQ 18.359375 34.515625 30.609375 34.515625 \nL 43.21875 34.515625 \nL 43.21875 35.40625 \nQ 43.21875 41.609375 39.140625 45 \nQ 35.0625 48.390625 27.6875 48.390625 \nQ 23 48.390625 18.546875 47.265625 \nQ 14.109375 46.140625 10.015625 43.890625 \nL 10.015625 52.203125 \nQ 14.9375 54.109375 19.578125 55.046875 \nQ 24.21875 56 28.609375 56 \nQ 40.484375 56 46.34375 49.84375 \nQ 52.203125 43.703125 52.203125 31.203125 \nz\n\" id=\"DejaVuSans-97\"/>\n     <path d=\"M 44.28125 53.078125 \nL 44.28125 44.578125 \nQ 40.484375 46.53125 36.375 47.5 \nQ 32.28125 48.484375 27.875 48.484375 \nQ 21.1875 48.484375 17.84375 46.4375 \nQ 14.5 44.390625 14.5 40.28125 \nQ 14.5 37.15625 16.890625 35.375 \nQ 19.28125 33.59375 26.515625 31.984375 \nL 29.59375 31.296875 \nQ 39.15625 29.25 43.1875 25.515625 \nQ 47.21875 21.78125 47.21875 15.09375 \nQ 47.21875 7.46875 41.1875 3.015625 \nQ 35.15625 -1.421875 24.609375 -1.421875 \nQ 20.21875 -1.421875 15.453125 -0.5625 \nQ 10.6875 0.296875 5.421875 2 \nL 5.421875 11.28125 \nQ 10.40625 8.6875 15.234375 7.390625 \nQ 20.0625 6.109375 24.8125 6.109375 \nQ 31.15625 6.109375 34.5625 8.28125 \nQ 37.984375 10.453125 37.984375 14.40625 \nQ 37.984375 18.0625 35.515625 20.015625 \nQ 33.0625 21.96875 24.703125 23.78125 \nL 21.578125 24.515625 \nQ 13.234375 26.265625 9.515625 29.90625 \nQ 5.8125 33.546875 5.8125 39.890625 \nQ 5.8125 47.609375 11.28125 51.796875 \nQ 16.75 56 26.8125 56 \nQ 31.78125 56 36.171875 55.265625 \nQ 40.578125 54.546875 44.28125 53.078125 \nz\n\" id=\"DejaVuSans-115\"/>\n     <path d=\"M 9.078125 75.984375 \nL 18.109375 75.984375 \nL 18.109375 31.109375 \nL 44.921875 54.6875 \nL 56.390625 54.6875 \nL 27.390625 29.109375 \nL 57.625 0 \nL 45.90625 0 \nL 18.109375 26.703125 \nL 18.109375 0 \nL 9.078125 0 \nz\n\" id=\"DejaVuSans-107\"/>\n     <path id=\"DejaVuSans-32\"/>\n    </defs>\n    <g transform=\"translate(26.823375 16.318125)scale(0.12 -0.12)\">\n     <use xlink:href=\"#DejaVuSans-109\"/>\n     <use x=\"97.412109\" xlink:href=\"#DejaVuSans-97\"/>\n     <use x=\"158.691406\" xlink:href=\"#DejaVuSans-115\"/>\n     <use x=\"210.791016\" xlink:href=\"#DejaVuSans-107\"/>\n     <use x=\"268.701172\" xlink:href=\"#DejaVuSans-32\"/>\n     <use x=\"300.488281\" xlink:href=\"#DejaVuSans-48\"/>\n    </g>\n   </g>\n  </g>\n  <g id=\"axes_2\">\n   <g id=\"patch_7\">\n    <path d=\"M 420.807353 1109.518125 \nL 464.295353 1109.518125 \nL 464.295353 22.318125 \nL 420.807353 22.318125 \nz\n\" style=\"fill:#ffffff;\"/>\n   </g>\n   <g clip-path=\"url(#p85be9ccab9)\">\n    <image height=\"1088\" id=\"image1b791b06fb\" transform=\"scale(1 -1)translate(0 -1088)\" width=\"44\" x=\"420.807353\" xlink:href=\"data:image/png;base64,\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\" y=\"-21.518125\"/>\n   </g>\n   <g id=\"matplotlib.axis_3\">\n    <g id=\"xtick_3\">\n     <g id=\"line2d_8\">\n      <g>\n       <use style=\"stroke:#000000;stroke-width:0.8;\" x=\"431.679353\" xlink:href=\"#md754c7d459\" y=\"1109.518125\"/>\n      </g>\n     </g>\n     <g id=\"text_9\">\n      <!-- 0 -->\n      <g transform=\"translate(428.498103 1124.116563)scale(0.1 -0.1)\">\n       <use xlink:href=\"#DejaVuSans-48\"/>\n      </g>\n     </g>\n    </g>\n    <g id=\"xtick_4\">\n     <g id=\"line2d_9\">\n      <g>\n       <use style=\"stroke:#000000;stroke-width:0.8;\" x=\"453.423353\" xlink:href=\"#md754c7d459\" y=\"1109.518125\"/>\n      </g>\n     </g>\n     <g id=\"text_10\">\n      <!-- 1 -->\n      <g transform=\"translate(450.242103 1124.116563)scale(0.1 -0.1)\">\n       <use xlink:href=\"#DejaVuSans-49\"/>\n      </g>\n     </g>\n    </g>\n   </g>\n   <g id=\"matplotlib.axis_4\">\n    <g id=\"ytick_6\">\n     <g id=\"line2d_10\">\n      <g>\n       <use style=\"stroke:#000000;stroke-width:0.8;\" x=\"420.807353\" xlink:href=\"#mfaa73cf53f\" y=\"33.190125\"/>\n      </g>\n     </g>\n     <g id=\"text_11\">\n      <!-- 0 -->\n      <g transform=\"translate(407.444853 36.989344)scale(0.1 -0.1)\">\n       <use xlink:href=\"#DejaVuSans-48\"/>\n      </g>\n     </g>\n    </g>\n    <g id=\"ytick_7\">\n     <g id=\"line2d_11\">\n      <g>\n       <use style=\"stroke:#000000;stroke-width:0.8;\" x=\"420.807353\" xlink:href=\"#mfaa73cf53f\" y=\"250.630125\"/>\n      </g>\n     </g>\n     <g id=\"text_12\">\n      <!-- 10 -->\n      <g transform=\"translate(401.082353 254.429344)scale(0.1 -0.1)\">\n       <use xlink:href=\"#DejaVuSans-49\"/>\n       <use x=\"63.623047\" xlink:href=\"#DejaVuSans-48\"/>\n      </g>\n     </g>\n    </g>\n    <g id=\"ytick_8\">\n     <g id=\"line2d_12\">\n      <g>\n       <use style=\"stroke:#000000;stroke-width:0.8;\" x=\"420.807353\" xlink:href=\"#mfaa73cf53f\" y=\"468.070125\"/>\n      </g>\n     </g>\n     <g id=\"text_13\">\n      <!-- 20 -->\n      <g transform=\"translate(401.082353 471.869344)scale(0.1 -0.1)\">\n       <use xlink:href=\"#DejaVuSans-50\"/>\n       <use x=\"63.623047\" xlink:href=\"#DejaVuSans-48\"/>\n      </g>\n     </g>\n    </g>\n    <g id=\"ytick_9\">\n     <g id=\"line2d_13\">\n      <g>\n       <use style=\"stroke:#000000;stroke-width:0.8;\" x=\"420.807353\" xlink:href=\"#mfaa73cf53f\" y=\"685.510125\"/>\n      </g>\n     </g>\n     <g id=\"text_14\">\n      <!-- 30 -->\n      <g transform=\"translate(401.082353 689.309344)scale(0.1 -0.1)\">\n       <use xlink:href=\"#DejaVuSans-51\"/>\n       <use x=\"63.623047\" xlink:href=\"#DejaVuSans-48\"/>\n      </g>\n     </g>\n    </g>\n    <g id=\"ytick_10\">\n     <g id=\"line2d_14\">\n      <g>\n       <use style=\"stroke:#000000;stroke-width:0.8;\" x=\"420.807353\" xlink:href=\"#mfaa73cf53f\" y=\"902.950125\"/>\n      </g>\n     </g>\n     <g id=\"text_15\">\n      <!-- 40 -->\n      <g transform=\"translate(401.082353 906.749344)scale(0.1 -0.1)\">\n       <use xlink:href=\"#DejaVuSans-52\"/>\n       <use x=\"63.623047\" xlink:href=\"#DejaVuSans-48\"/>\n      </g>\n     </g>\n    </g>\n   </g>\n   <g id=\"patch_8\">\n    <path d=\"M 420.807353 1109.518125 \nL 420.807353 22.318125 \n\" style=\"fill:none;stroke:#000000;stroke-linecap:square;stroke-linejoin:miter;stroke-width:0.8;\"/>\n   </g>\n   <g id=\"patch_9\">\n    <path d=\"M 464.295353 1109.518125 \nL 464.295353 22.318125 \n\" style=\"fill:none;stroke:#000000;stroke-linecap:square;stroke-linejoin:miter;stroke-width:0.8;\"/>\n   </g>\n   <g id=\"patch_10\">\n    <path d=\"M 420.807353 1109.518125 \nL 464.295353 1109.518125 \n\" style=\"fill:none;stroke:#000000;stroke-linecap:square;stroke-linejoin:miter;stroke-width:0.8;\"/>\n   </g>\n   <g id=\"patch_11\">\n    <path d=\"M 420.807353 22.318125 \nL 464.295353 22.318125 \n\" style=\"fill:none;stroke:#000000;stroke-linecap:square;stroke-linejoin:miter;stroke-width:0.8;\"/>\n   </g>\n   <g id=\"text_16\">\n    <!-- mask 1 -->\n    <g transform=\"translate(420.705728 16.318125)scale(0.12 -0.12)\">\n     <use xlink:href=\"#DejaVuSans-109\"/>\n     <use x=\"97.412109\" xlink:href=\"#DejaVuSans-97\"/>\n     <use x=\"158.691406\" xlink:href=\"#DejaVuSans-115\"/>\n     <use x=\"210.791016\" xlink:href=\"#DejaVuSans-107\"/>\n     <use x=\"268.701172\" xlink:href=\"#DejaVuSans-32\"/>\n     <use x=\"300.488281\" xlink:href=\"#DejaVuSans-49\"/>\n    </g>\n   </g>\n  </g>\n  <g id=\"axes_3\">\n   <g id=\"patch_12\">\n    <path d=\"M 814.689706 1109.518125 \nL 858.177706 1109.518125 \nL 858.177706 22.318125 \nL 814.689706 22.318125 \nz\n\" style=\"fill:#ffffff;\"/>\n   </g>\n   <g clip-path=\"url(#p694fb444f0)\">\n    <image height=\"1088\" id=\"imagebcd44efdf1\" transform=\"scale(1 -1)translate(0 -1088)\" width=\"44\" x=\"814.689706\" xlink:href=\"data:image/png;base64,\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\" y=\"-21.518125\"/>\n   </g>\n   <g id=\"matplotlib.axis_5\">\n    <g id=\"xtick_5\">\n     <g id=\"line2d_15\">\n      <g>\n       <use style=\"stroke:#000000;stroke-width:0.8;\" x=\"825.561706\" xlink:href=\"#md754c7d459\" y=\"1109.518125\"/>\n      </g>\n     </g>\n     <g id=\"text_17\">\n      <!-- 0 -->\n      <g transform=\"translate(822.380456 1124.116563)scale(0.1 -0.1)\">\n       <use xlink:href=\"#DejaVuSans-48\"/>\n      </g>\n     </g>\n    </g>\n    <g id=\"xtick_6\">\n     <g id=\"line2d_16\">\n      <g>\n       <use style=\"stroke:#000000;stroke-width:0.8;\" x=\"847.305706\" xlink:href=\"#md754c7d459\" y=\"1109.518125\"/>\n      </g>\n     </g>\n     <g id=\"text_18\">\n      <!-- 1 -->\n      <g transform=\"translate(844.124456 1124.116563)scale(0.1 -0.1)\">\n       <use xlink:href=\"#DejaVuSans-49\"/>\n      </g>\n     </g>\n    </g>\n   </g>\n   <g id=\"matplotlib.axis_6\">\n    <g id=\"ytick_11\">\n     <g id=\"line2d_17\">\n      <g>\n       <use style=\"stroke:#000000;stroke-width:0.8;\" x=\"814.689706\" xlink:href=\"#mfaa73cf53f\" y=\"33.190125\"/>\n      </g>\n     </g>\n     <g id=\"text_19\">\n      <!-- 0 -->\n      <g transform=\"translate(801.327206 36.989344)scale(0.1 -0.1)\">\n       <use xlink:href=\"#DejaVuSans-48\"/>\n      </g>\n     </g>\n    </g>\n    <g id=\"ytick_12\">\n     <g id=\"line2d_18\">\n      <g>\n       <use style=\"stroke:#000000;stroke-width:0.8;\" x=\"814.689706\" xlink:href=\"#mfaa73cf53f\" y=\"250.630125\"/>\n      </g>\n     </g>\n     <g id=\"text_20\">\n      <!-- 10 -->\n      <g transform=\"translate(794.964706 254.429344)scale(0.1 -0.1)\">\n       <use xlink:href=\"#DejaVuSans-49\"/>\n       <use x=\"63.623047\" xlink:href=\"#DejaVuSans-48\"/>\n      </g>\n     </g>\n    </g>\n    <g id=\"ytick_13\">\n     <g id=\"line2d_19\">\n      <g>\n       <use style=\"stroke:#000000;stroke-width:0.8;\" x=\"814.689706\" xlink:href=\"#mfaa73cf53f\" y=\"468.070125\"/>\n      </g>\n     </g>\n     <g id=\"text_21\">\n      <!-- 20 -->\n      <g transform=\"translate(794.964706 471.869344)scale(0.1 -0.1)\">\n       <use xlink:href=\"#DejaVuSans-50\"/>\n       <use x=\"63.623047\" xlink:href=\"#DejaVuSans-48\"/>\n      </g>\n     </g>\n    </g>\n    <g id=\"ytick_14\">\n     <g id=\"line2d_20\">\n      <g>\n       <use style=\"stroke:#000000;stroke-width:0.8;\" x=\"814.689706\" xlink:href=\"#mfaa73cf53f\" y=\"685.510125\"/>\n      </g>\n     </g>\n     <g id=\"text_22\">\n      <!-- 30 -->\n      <g transform=\"translate(794.964706 689.309344)scale(0.1 -0.1)\">\n       <use xlink:href=\"#DejaVuSans-51\"/>\n       <use x=\"63.623047\" xlink:href=\"#DejaVuSans-48\"/>\n      </g>\n     </g>\n    </g>\n    <g id=\"ytick_15\">\n     <g id=\"line2d_21\">\n      <g>\n       <use style=\"stroke:#000000;stroke-width:0.8;\" x=\"814.689706\" xlink:href=\"#mfaa73cf53f\" y=\"902.950125\"/>\n      </g>\n     </g>\n     <g id=\"text_23\">\n      <!-- 40 -->\n      <g transform=\"translate(794.964706 906.749344)scale(0.1 -0.1)\">\n       <use xlink:href=\"#DejaVuSans-52\"/>\n       <use x=\"63.623047\" xlink:href=\"#DejaVuSans-48\"/>\n      </g>\n     </g>\n    </g>\n   </g>\n   <g id=\"patch_13\">\n    <path d=\"M 814.689706 1109.518125 \nL 814.689706 22.318125 \n\" style=\"fill:none;stroke:#000000;stroke-linecap:square;stroke-linejoin:miter;stroke-width:0.8;\"/>\n   </g>\n   <g id=\"patch_14\">\n    <path d=\"M 858.177706 1109.518125 \nL 858.177706 22.318125 \n\" style=\"fill:none;stroke:#000000;stroke-linecap:square;stroke-linejoin:miter;stroke-width:0.8;\"/>\n   </g>\n   <g id=\"patch_15\">\n    <path d=\"M 814.689706 1109.518125 \nL 858.177706 1109.518125 \n\" style=\"fill:none;stroke:#000000;stroke-linecap:square;stroke-linejoin:miter;stroke-width:0.8;\"/>\n   </g>\n   <g id=\"patch_16\">\n    <path d=\"M 814.689706 22.318125 \nL 858.177706 22.318125 \n\" style=\"fill:none;stroke:#000000;stroke-linecap:square;stroke-linejoin:miter;stroke-width:0.8;\"/>\n   </g>\n   <g id=\"text_24\">\n    <!-- mask 2 -->\n    <g transform=\"translate(814.588081 16.318125)scale(0.12 -0.12)\">\n     <use xlink:href=\"#DejaVuSans-109\"/>\n     <use x=\"97.412109\" xlink:href=\"#DejaVuSans-97\"/>\n     <use x=\"158.691406\" xlink:href=\"#DejaVuSans-115\"/>\n     <use x=\"210.791016\" xlink:href=\"#DejaVuSans-107\"/>\n     <use x=\"268.701172\" xlink:href=\"#DejaVuSans-32\"/>\n     <use x=\"300.488281\" xlink:href=\"#DejaVuSans-50\"/>\n    </g>\n   </g>\n  </g>\n </g>\n <defs>\n  <clipPath id=\"p7d048fab33\">\n   <rect height=\"1087.2\" width=\"43.488\" x=\"26.925\" y=\"22.318125\"/>\n  </clipPath>\n  <clipPath id=\"p85be9ccab9\">\n   <rect height=\"1087.2\" width=\"43.488\" x=\"420.807353\" y=\"22.318125\"/>\n  </clipPath>\n  <clipPath id=\"p694fb444f0\">\n   <rect height=\"1087.2\" width=\"43.488\" x=\"814.689706\" y=\"22.318125\"/>\n  </clipPath>\n </defs>\n</svg>\n",
      "image/png": "[encoded data removed]"
     },
     "metadata": {
      "needs_background": "light"
     }
    }
   ],
   "source": [
    "import matplotlib.pyplot as plt\n",
    "explain_matrix, masks = explain(X_train)\n",
    "\n",
    "fig, axs = plt.subplots(1, 3, figsize=(20,20))\n",
    "\n",
    "for i in range(3):\n",
    "    axs[i].imshow(masks[i][:50])\n",
    "    axs[i].set_title(f\"mask {i}\")"
   ]
  },
  {
   "cell_type": "code",
   "execution_count": null,
   "metadata": {},
   "outputs": [],
   "source": []
  }
 ]
}